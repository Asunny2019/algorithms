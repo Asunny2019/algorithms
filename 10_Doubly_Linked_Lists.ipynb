{
 "cells": [
  {
   "cell_type": "markdown",
   "metadata": {},
   "source": [
    "## 양방향 연결 리스트(Doubly Linked Lists)\n",
    "\n",
    "- 연결리스트는 앞에서 뒤로만 링크가 연결 되었는데 이젠 앞 뒤의 노드 모두 진행가능해진다. "
   ]
  },
  {
   "cell_type": "code",
   "execution_count": 6,
   "metadata": {},
   "outputs": [],
   "source": [
    "class Node:\n",
    "    def __init__(self, item):\n",
    "        self.data=item\n",
    "        self.prev=None\n",
    "        self.next=None\n",
    "        \n",
    "# 리스트 처음과 끝에 dummy node 두자! 모든 노드들이 모두 같은 모양이 되어서 더 다루기 쉬워짐\n",
    "\n",
    "class DoublyLinkedList:\n",
    "    def __init__(self):\n",
    "        self.nodeCount=0\n",
    "        self.head=Node(None)#dummy node\n",
    "        self.tail=Node(None)#dummy node\n",
    "        self.head.prev=None\n",
    "        self.head.next=self.tail\n",
    "        self.tail.prev=self.head\n",
    "        self.tail.next=None\n",
    "\n",
    "    def __repr__(self):\n",
    "        if self.nodeCount == 0:\n",
    "            return 'LinkedList: empty'\n",
    "\n",
    "        s = ''\n",
    "        curr = self.head\n",
    "        while curr.next.next:\n",
    "            curr = curr.next\n",
    "            s += repr(curr.data)\n",
    "            if curr.next.next is not None:\n",
    "                s += ' -> '\n",
    "        return s\n",
    "\n",
    "    def getLength(self):\n",
    "        return self.nodeCount\n",
    "        \n",
    "    def traverse(self):\n",
    "        result=[]  \n",
    "        curr=self.head\n",
    "        while curr.next.next:    # 이젠 tail이 dummy이므로 None이라서 다음다음임을 확인해야함. \n",
    "            curr=curr.next\n",
    "            result.append(curr.data)\n",
    "        return result\n",
    "        \n",
    "    def reverse(self):  ## traverse의 대칭된 형태로 코드를 짜면 reverse로 순회\n",
    "        result=[]\n",
    "        curr=self.tail\n",
    "        while curr.prev.prev:\n",
    "            curr=curr.prev\n",
    "            result.append(curr.data)\n",
    "        return result\n",
    "    \n",
    "    def getAt(self, pos):\n",
    "        if pos<0 or pos>self.nodeCount:\n",
    "            return None\n",
    "        \n",
    "        if pos>self.nodeCount//2: # pos가 전체 노드의 중간보다 뒷쪽에 위치하면\n",
    "            i=0\n",
    "            curr=self.tail # 순회하기 시작하는 위치를 tail에서 시작한다.\n",
    "            while i<self.nodeCount-pos+1: \n",
    "                # pos만큼 빼고 +1을 해야지, 뒤에서 pos까지 도착한 후 while문이 멈춤\n",
    "                curr=curr.prev\n",
    "                i+=1\n",
    "        else:\n",
    "            i=0\n",
    "            curr=self.head\n",
    "            while i<pos:\n",
    "                curr=curr.next\n",
    "                i+=1\n",
    "        return curr\n",
    "    \n",
    "    def insertAfter(self, prev, newNode):\n",
    "        next_=prev.next\n",
    "        newNode.prev=prev\n",
    "        newNode.next=next_\n",
    "        prev.next=newNode\n",
    "        next_.prev=newNode\n",
    "        self.nodeCount+=1\n",
    "        return True\n",
    "    \n",
    "    def insertAt(self, pos, newNode):\n",
    "        if pos <1 or pos>self.nodeCount+1:\n",
    "            return False\n",
    "        prev=self.getAt(pos-1)\n",
    "        return self.insertAfter(prev, newNode)\n",
    "    \n",
    "    ####################################################################3\n",
    "    def insertBefore(self, next_, newNode):\n",
    "        prev=next_.prev\n",
    "        newNode.next=next_\n",
    "        newNode.prev=prev\n",
    "        next_.prev=newNode\n",
    "        prev.next=newNode\n",
    "        self.nodeCount+=1\n",
    "        return True\n",
    "    \n",
    "    def popAfter(self, prev):\n",
    "        curr=prev.next     # 삭제하려는 노드는 prev 다음\n",
    "        next_=curr.next    # 삭제하려는 노드의 다음 노드(next_) 지정 \n",
    "        prev.next= next_   # prev노드에서 next_노드로 가는 링크 연결 \n",
    "        next_.prev=prev    # next_노드에서 prev 노드로 가는 링크 연결 \n",
    "        curr.next=None     # curr노드에서 next_로 가는 링크 연결 끊고\n",
    "        curr.prev=None     # curr노드에서 prev노드로 가는 링크 끊고\n",
    "        self.nodeCount-=1  # 노드개수 1 감소\n",
    "        return curr.data  # curr.data 리턴\n",
    "    \n",
    "    def popBefore(self, next_):\n",
    "        curr=next_.prev  # 삭제하려는 노드는 next_노드의 앞에 있음.\n",
    "        prev=curr.prev   # 삭제하려는 노드 앞의 노드 지정(prev)\n",
    "        next_.prev=prev  # next_노드에서 prev 노드로 가는 링크 연결\n",
    "        prev.next=next_  # prev에서 next_로 가는 링크 연결\n",
    "        curr.next=None\n",
    "        curr.prev=None  # curr에서 앞뒤로 연결된 노드 끊기\n",
    "        self.nodeCount-=1  # 연결리스트의 노드 개수1개 감소\n",
    "        return curr.data\n",
    "            \n",
    "    def popAt(self, pos):\n",
    "        if pos <1 or pos>self.nodeCount:\n",
    "            raise IndexError\n",
    "        prev=self.getAt(pos-1)\n",
    "        return self.popAfter(prev)     \n",
    "    \n",
    "    def concat(self, L):\n",
    "        self.tail.prev.next=L.head.next\n",
    "        L.head.next.prev=self.tail.prev\n",
    "        self.tail=L.tail\n",
    "        self.nodeCount+=L.nodeCount\n"
   ]
  },
  {
   "cell_type": "code",
   "execution_count": 8,
   "metadata": {},
   "outputs": [
    {
     "data": {
      "text/plain": [
       "True"
      ]
     },
     "execution_count": 8,
     "metadata": {},
     "output_type": "execute_result"
    }
   ],
   "source": [
    "a=Node(2)\n",
    "b=Node(4)\n",
    "d=Node(25)\n",
    "e=Node(6)\n",
    "L=DoublyLinkedList()\n",
    "L.insertAt(1,a)\n",
    "L.insertAt(1,b)\n",
    "L.insertAt(1,d)\n",
    "L.insertAt(1,e)"
   ]
  },
  {
   "cell_type": "code",
   "execution_count": 9,
   "metadata": {},
   "outputs": [
    {
     "data": {
      "text/plain": [
       "6 -> 25 -> 4 -> 2"
      ]
     },
     "execution_count": 9,
     "metadata": {},
     "output_type": "execute_result"
    }
   ],
   "source": [
    "L"
   ]
  },
  {
   "cell_type": "code",
   "execution_count": 10,
   "metadata": {},
   "outputs": [
    {
     "data": {
      "text/plain": [
       "25"
      ]
     },
     "execution_count": 10,
     "metadata": {},
     "output_type": "execute_result"
    }
   ],
   "source": [
    "L.popAt(2)"
   ]
  },
  {
   "cell_type": "code",
   "execution_count": 11,
   "metadata": {},
   "outputs": [
    {
     "data": {
      "text/plain": [
       "6 -> 4 -> 2"
      ]
     },
     "execution_count": 11,
     "metadata": {},
     "output_type": "execute_result"
    }
   ],
   "source": [
    "L"
   ]
  },
  {
   "cell_type": "code",
   "execution_count": null,
   "metadata": {},
   "outputs": [],
   "source": []
  },
  {
   "cell_type": "code",
   "execution_count": null,
   "metadata": {},
   "outputs": [],
   "source": []
  },
  {
   "cell_type": "code",
   "execution_count": null,
   "metadata": {},
   "outputs": [],
   "source": []
  },
  {
   "cell_type": "code",
   "execution_count": null,
   "metadata": {},
   "outputs": [],
   "source": []
  },
  {
   "cell_type": "code",
   "execution_count": null,
   "metadata": {},
   "outputs": [],
   "source": []
  }
 ],
 "metadata": {
  "kernelspec": {
   "display_name": "Python 3",
   "language": "python",
   "name": "python3"
  },
  "language_info": {
   "codemirror_mode": {
    "name": "ipython",
    "version": 3
   },
   "file_extension": ".py",
   "mimetype": "text/x-python",
   "name": "python",
   "nbconvert_exporter": "python",
   "pygments_lexer": "ipython3",
   "version": "3.7.4"
  }
 },
 "nbformat": 4,
 "nbformat_minor": 2
}
