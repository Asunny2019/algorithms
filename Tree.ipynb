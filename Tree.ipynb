{
 "cells": [
  {
   "cell_type": "markdown",
   "metadata": {},
   "source": [
    "## DFT"
   ]
  },
  {
   "cell_type": "code",
   "execution_count": 16,
   "metadata": {},
   "outputs": [],
   "source": [
    "class Node:\n",
    "    def __init__(self, item):\n",
    "        self.data=item\n",
    "        self.left=None\n",
    "        self.right=None\n",
    "    \n",
    "    def size(self):\n",
    "        l=self.left.size() if self.left else 0\n",
    "        r=self.right.size() if self.right else 0\n",
    "        return l+r+1\n",
    "    \n",
    "    # 18-1: depth 구하기\n",
    "    def depth(self):\n",
    "        l=self.left.depth() if self.left else 0\n",
    "        r=self.right.depth() if self.right else 0\n",
    "        return max(l,r)+1\n",
    "        \n",
    "    def preorder(self):\n",
    "        traversal=[]\n",
    "        traversal.append(self.data)\n",
    "        if self.left:\n",
    "            traversal+=self.left.preorder()\n",
    "        if self.right:\n",
    "            traversal+=self.right.preorder()\n",
    "        return traversal\n",
    "    \n",
    "    def postorder(self):\n",
    "        traversal=[]\n",
    "        if self.left:\n",
    "            traversal+=self.left.postorder()\n",
    "        if self.right:\n",
    "            traversal+=self.right.postorder()\n",
    "        traversal.append(self.data)\n",
    "        return traversal\n",
    "    \n",
    "\n",
    "class BinaryTree:\n",
    "    def __init__(self, r):\n",
    "        self.root=r\n",
    "    \n",
    "    def size(self):\n",
    "        if self.root:\n",
    "            return self.root.size()\n",
    "        else:\n",
    "            return 0\n",
    "        \n",
    "    def depth(self):\n",
    "        if self.root:\n",
    "            return self.root.depth()\n",
    "        else:\n",
    "            return 0\n",
    "\n",
    "    def preorder(self):\n",
    "        if self.root:\n",
    "            return self.root.preorder()\n",
    "        else:\n",
    "            return []\n",
    "    \n",
    "    def postorder(self):\n",
    "        if self.root:\n",
    "            return self.root.postorder()\n",
    "        else:\n",
    "            return []\n",
    "    \n",
    "def solution(x):\n",
    "    return 0"
   ]
  },
  {
   "cell_type": "code",
   "execution_count": 17,
   "metadata": {},
   "outputs": [],
   "source": [
    "# 노드 만들기\n",
    "a=Node('A')\n",
    "b=Node('B')\n",
    "c=Node(\"C\")\n",
    "d=Node(\"D\")\n",
    "e=Node(\"E\")\n",
    "f=Node(\"F\")\n",
    "g=Node(\"G\")\n",
    "h=Node(\"H\")\n",
    "j=Node(\"J\")\n",
    "\n",
    "#이진트리의 루트를 a로 만들기\n",
    "BT=BinaryTree(a)\n",
    "a.left=b\n",
    "a.right=c\n",
    "\n",
    "# left of a\n",
    "b.left=d\n",
    "b.right=e\n",
    "d.left=h\n",
    "\n",
    "#right of a\n",
    "c.right=g\n",
    "c.left=f\n",
    "f.right=j"
   ]
  },
  {
   "cell_type": "markdown",
   "metadata": {},
   "source": [
    "\n",
    "![preorder T](https://raw.githubusercontent.com/Asunny2019/algorithms/90b6eca08992c74f9c0d5508f587e74a7a14e3bd/preorder.PNG)\n",
    "\n",
    "![postorder T](https://raw.githubusercontent.com/Asunny2019/algorithms/90b6eca08992c74f9c0d5508f587e74a7a14e3bd/postorder.PNG)"
   ]
  },
  {
   "cell_type": "code",
   "execution_count": 22,
   "metadata": {},
   "outputs": [
    {
     "name": "stdout",
     "output_type": "stream",
     "text": [
      "4\n",
      "['A', 'B', 'D', 'H', 'E', 'C', 'F', 'J', 'G'] A->B->D->H->E->C->F->J->G\n",
      "['H', 'D', 'E', 'B', 'J', 'F', 'G', 'C', 'A'] H->D->E->B->J->F->G->->C->A\n"
     ]
    }
   ],
   "source": [
    "# 이진트리의 깊이\n",
    "print(BT.depth())\n",
    "print(BT.preorder(),\"A->B->D->H->E->C->F->J->G\") \n",
    "print(BT.postorder(),\"H->D->E->B->J->F->G->->C->A\")\n"
   ]
  },
  {
   "cell_type": "markdown",
   "metadata": {},
   "source": [
    "## BFT"
   ]
  },
  {
   "cell_type": "code",
   "execution_count": 2,
   "metadata": {},
   "outputs": [],
   "source": [
    "class ArrayQueue:\n",
    "    def __init__(self):\n",
    "        self.data=[]\n",
    "        \n",
    "    def size(self):\n",
    "        return len(self.data) \n",
    "    \n",
    "    def isEmpty(self):\n",
    "        return self.size()==0\n",
    "    \n",
    "    def enqueue(self,item):\n",
    "        return self.append(item)\n",
    "    \n",
    "    def dequeue(self):\n",
    "        return self.data.pop(0)\n",
    "    \n",
    "    def peek(self):\n",
    "        return self.data[0]\n",
    "    \n",
    "class Node:\n",
    "    def __init__(self, item):\n",
    "        self.data=item\n",
    "        self.left=None\n",
    "        self.right=None        \n",
    "        \n",
    "class BinaryTree:\n",
    "    def __init__(self, r):\n",
    "        self.root=r\n",
    "        \n",
    "    def bft(self):\n",
    "        traversal=[]\n",
    "        q=ArrayQueue()\n",
    "        \n",
    "        if self.root:  # root가 있는지 확인하고.( 빈 트리가 아닌지 확인) \n",
    "            q.enqueue(self.root) # 있다면 큐에 노드를 넣는다.\n",
    "            \n",
    "        while q.isEmpty()==False: # q에 노드가 있는 동안 다음을 반복한다. \n",
    "            node=q.dequeue() # 큐에서 꺼내서 node에 일단 넣어두고\n",
    "            traversal.append(node.data) # traversal에 방문한 노드를 저장하고\n",
    "            \n",
    "            if node.left:\n",
    "                q.enqueue(node.left) # 노드의 왼쪽 자식이 존재하면 큐에 넣고\n",
    "            if node.right: \n",
    "                q.enqueue(node.right) # 노드의 오른쪽 자식이 존재하면 큐에 또 넣고\n",
    "            # 자식이 없어서 위의 두개의 if문이 모두 false면 다시 q에서 또 시작.\n",
    "            \n",
    "        return traversal    "
   ]
  },
  {
   "cell_type": "code",
   "execution_count": null,
   "metadata": {},
   "outputs": [],
   "source": []
  },
  {
   "cell_type": "code",
   "execution_count": null,
   "metadata": {},
   "outputs": [],
   "source": []
  },
  {
   "cell_type": "code",
   "execution_count": null,
   "metadata": {},
   "outputs": [],
   "source": []
  },
  {
   "cell_type": "code",
   "execution_count": null,
   "metadata": {},
   "outputs": [],
   "source": []
  },
  {
   "cell_type": "code",
   "execution_count": null,
   "metadata": {},
   "outputs": [],
   "source": []
  },
  {
   "cell_type": "code",
   "execution_count": null,
   "metadata": {},
   "outputs": [],
   "source": []
  },
  {
   "cell_type": "code",
   "execution_count": null,
   "metadata": {},
   "outputs": [],
   "source": []
  },
  {
   "cell_type": "code",
   "execution_count": null,
   "metadata": {},
   "outputs": [],
   "source": []
  },
  {
   "cell_type": "code",
   "execution_count": null,
   "metadata": {},
   "outputs": [],
   "source": []
  },
  {
   "cell_type": "code",
   "execution_count": null,
   "metadata": {},
   "outputs": [],
   "source": []
  },
  {
   "cell_type": "code",
   "execution_count": null,
   "metadata": {},
   "outputs": [],
   "source": []
  }
 ],
 "metadata": {
  "kernelspec": {
   "display_name": "Python 3",
   "language": "python",
   "name": "python3"
  },
  "language_info": {
   "codemirror_mode": {
    "name": "ipython",
    "version": 3
   },
   "file_extension": ".py",
   "mimetype": "text/x-python",
   "name": "python",
   "nbconvert_exporter": "python",
   "pygments_lexer": "ipython3",
   "version": "3.7.4"
  }
 },
 "nbformat": 4,
 "nbformat_minor": 2
}
