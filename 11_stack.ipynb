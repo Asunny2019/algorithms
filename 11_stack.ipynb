{
 "cells": [
  {
   "cell_type": "markdown",
   "metadata": {},
   "source": [
    "## 스택(Stack)\n",
    "- 자료(data element)를 보관할 수 있는 (선형)구조\n",
    "- push operation: 넣을 때는 밀어넣는 연산\n",
    "- pop operation: 꺼낼때는 같은 쪽에서 뽑아내야하는 제약이 있다.\n",
    "- 후입선출(LIFO, Last-In First-Out)특징을 가지는 선형 자료구조\n",
    "\n",
    "### 스택의 동작\n",
    "초기 상태: 비어있는 스택(S=Stack())\n",
    "step1. 데이터 원소 A를 스택에 추가(S.push(A))\n",
    "     . 데이터 원소 B를 스택에 추가(S.push(B))\n",
    "\n",
    "step2. 데이터 원소 꺼내기(r1=S.pop(), 결과 r1은 B)\n",
    "     . 데이터 원소 꺼내기(r2=S.pop(), 결과 r2은 A)\n",
    "\n",
    "### 스택에서 발생하는 오류\n",
    "\n",
    "- 스택 언더플로우(stack underflow): 비어있는 스택에서 데이터 원소를 꺼내려 할때, 생겨나는 오류를 \n",
    "\n",
    "- 스택 오버플로우(stack overflow): 꽉 찬 스택에 데이터 원소를 넣으려고 할 생겨나는 오류를 \n",
    "\n",
    "### 스택의 추상적 자료구조 구현\n",
    "\n",
    "#### (1) 배열(array)을 이용하여 구현\n",
    "- python 리스트와 메서드를 이용\n",
    "\n",
    "#### (2) 연결 리스트(Linked List)을 이용하여 구현\n",
    "- 지난 강의에서 마련한 양방향 연결 리스트 이용\n",
    "\n",
    "\n",
    "### 스택의 추상적 자료구조 구현\n",
    "\n",
    "#### 연산의 정의\n",
    "- size() - 현재 스택에 들어 있는 데이터 원소의 수를 구함\n",
    "- isEmpty() - 현재 스택이 비어있는지 판단\n",
    "- push(x) - 데이터 원소 x를 스택에 추가\n",
    "- pop() - 스택의 맨 위에 저장된 데이터 원소를 제거(또한, 반환)\n",
    "- peek() - 스택의 맨 위에 저장된 데이터 원소를 반환(제거하지 않음)\n"
   ]
  },
  {
   "cell_type": "markdown",
   "metadata": {},
   "source": [
    "List를 사용해서 스택 구현"
   ]
  },
  {
   "cell_type": "code",
   "execution_count": 1,
   "metadata": {},
   "outputs": [],
   "source": [
    "class ArrayStack:\n",
    "    def __init__(self):\n",
    "        self.data=[]  # 빈 스택을 초기화\n",
    "        \n",
    "    def size(self):\n",
    "        return len(self.data) # 스택 크기 리턴\n",
    "    \n",
    "    def isEmpty(self):\n",
    "        return self.size()==0 # 스택이 비어있는지 판단\n",
    "    \n",
    "    def push(self, item):\n",
    "        self.data.append(item)  # 데이터 원소를 추가\n",
    "        \n",
    "    def pop(self):\n",
    "        return self.data.pop() # 데이터 원소를 삭제(리턴)\n",
    "    \n",
    "    def peek(self):\n",
    "        return self.data[-1]  # 스택의 꼭대기 원소 반환\n",
    "    "
   ]
  },
  {
   "cell_type": "markdown",
   "metadata": {},
   "source": [
    "Doublylinkedlist 구조 사용해서 구현"
   ]
  },
  {
   "cell_type": "code",
   "execution_count": 4,
   "metadata": {},
   "outputs": [],
   "source": [
    "from doublylinkedlist import Node\n",
    "from doublylinkedlist import DoublyLinkedList\n",
    "\n",
    "class LinkedListStack:\n",
    "    def __init__(self):\n",
    "        self.data=DoublyLinkedList()\n",
    "        \n",
    "    def size(self):\n",
    "        return sel.data.getLength()\n",
    "    \n",
    "    def isEmpty(self):\n",
    "        return self.size()==0\n",
    "    \n",
    "    def push(self, item):\n",
    "        node=Node(item)\n",
    "        self.data.insertAt(self.size()+1, node)\n",
    "        \n",
    "    def pop(self):\n",
    "        return self.data.popAt(self.size())\n",
    "    \n",
    "    def peek(self):\n",
    "        return self.data.getAt(self.size()).data"
   ]
  },
  {
   "cell_type": "code",
   "execution_count": 23,
   "metadata": {},
   "outputs": [
    {
     "name": "stdout",
     "output_type": "stream",
     "text": [
      "False\n",
      "False\n",
      "False\n"
     ]
    }
   ],
   "source": [
    "expr=\"[(A+B)*C]\"  #\"{(A+B}*C)\"\n",
    "match={')':'(','}':'{',']':\"[\"}\n",
    "S=ArrayStack()\n",
    "for c in expr:\n",
    "    if c in '({[':\n",
    "        S.push(c)\n",
    "    elif c in match:\n",
    "        if S.isEmpty:\n",
    "            print(False)\n",
    "        else:\n",
    "            t=S.pop()\n",
    "            if t != match[c]:\n",
    "                print(False)\n",
    "print(S.isEmpty())\n",
    "            "
   ]
  },
  {
   "cell_type": "code",
   "execution_count": 18,
   "metadata": {},
   "outputs": [
    {
     "data": {
      "text/plain": [
       "True"
      ]
     },
     "execution_count": 18,
     "metadata": {},
     "output_type": "execute_result"
    }
   ],
   "source": [
    "expr[5] in match"
   ]
  },
  {
   "cell_type": "code",
   "execution_count": 19,
   "metadata": {},
   "outputs": [
    {
     "data": {
      "text/plain": [
       "'('"
      ]
     },
     "execution_count": 19,
     "metadata": {},
     "output_type": "execute_result"
    }
   ],
   "source": [
    "match[\")\"]"
   ]
  },
  {
   "cell_type": "code",
   "execution_count": null,
   "metadata": {},
   "outputs": [],
   "source": []
  },
  {
   "cell_type": "code",
   "execution_count": null,
   "metadata": {},
   "outputs": [],
   "source": []
  },
  {
   "cell_type": "code",
   "execution_count": null,
   "metadata": {},
   "outputs": [],
   "source": []
  }
 ],
 "metadata": {
  "kernelspec": {
   "display_name": "Python 3",
   "language": "python",
   "name": "python3"
  },
  "language_info": {
   "codemirror_mode": {
    "name": "ipython",
    "version": 3
   },
   "file_extension": ".py",
   "mimetype": "text/x-python",
   "name": "python",
   "nbconvert_exporter": "python",
   "pygments_lexer": "ipython3",
   "version": "3.7.4"
  }
 },
 "nbformat": 4,
 "nbformat_minor": 2
}
