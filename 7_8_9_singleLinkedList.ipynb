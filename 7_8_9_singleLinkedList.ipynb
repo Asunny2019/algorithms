{
 "cells": [
  {
   "cell_type": "markdown",
   "metadata": {},
   "source": [
    "### 추상적 자료구조(ADT: Abstract Data Structures)\n",
    ">    : 유사한 동작을 가진 자료구조의 클래스에 대한 수학적 모델을 가리킨다. 많은 추\n",
    "상 데이터 타입은 각기 클래스는 다르지만, 기능적으로는 동일하게 구형된 자료구조를 가질 수 있다. \n",
    ">    자료구조는 크게 배열 기반의 연속(continuation)방식과 포인터 기반의 연결(Link)방식으로 분류한다. 예를 들어 파이썬에서 연속적으로 할당된 자료구조(단일 메모리 슬래브-slab, 물리적으로 연속된 페이지로 구성된 연속적인 메모리 조각-로 구성)는 문자열, 리스트, 튜플, 딕셔너리 등이 있다.  \n",
    ">_(파이썬 자료구조와 알고리즘, p.185, 미아 스타인 지음)_\n",
    "\n",
    "\n",
    "- Data  \n",
    "    - ex: 정수, 문자열, 레코드...\n",
    "- A set of operations: 데이터 아이템 셋들을 다음과 같은 연산을 한다. \n",
    "    - 삽입, 삭제, 순회,...\n",
    "    - 정렬, 탐색...\n",
    "\n",
    "## 7강: 연결리스트 (1)\n",
    "#### 단일 연결리스트(single linked list)란?\n",
    "- 연결리스트는 포인터 기반의 연결(Link)방식의 자료구조이다. 원소들이 링크라고 불리는 고리로 연결되어 있어서 선형배열보다 빠르게 다른 원소를 삽입하거나 삭제하는 것이 쉽다. \n",
    "- 선형배열에 비해 데이터 구조 표현에 소요되는 메모리 소요가 크고, random access가 안되므로 특정 번째의 원소에 접근하기 위해서는 앞에서부터 하나씩 링크를 따라 찾아가야 하기 때문에 소요되는 시간이 길다는 점이 단점이다. \n",
    "\n",
    "#### 배열과 연결리스트의 차이  \n",
    "\n",
    "||배열|연결리스트|  \n",
    "|-|-|-|  \n",
    "|저장공간|연속한 위치|임의의 위치|  \n",
    "|특정 원소 지칭|매우 간편|선형탐색과 유사|  \n",
    "|big-O|O(1)|O(n)|  \n"
   ]
  },
  {
   "cell_type": "markdown",
   "metadata": {},
   "source": [
    "7_문제: traverse() 를 완성하라."
   ]
  },
  {
   "cell_type": "code",
   "execution_count": 1,
   "metadata": {},
   "outputs": [],
   "source": [
    "class Node:\n",
    "    def __init__(self, item):\n",
    "        self.data = item\n",
    "        self.next = None\n",
    "\n",
    "class LinkedList:\n",
    "    def __init__(self):\n",
    "        self.nodeCount = 0\n",
    "        self.head = None\n",
    "        self.tail = None\n",
    "\n",
    "    def getAt(self, pos):\n",
    "        if pos < 1 or pos > self.nodeCount:\n",
    "            return None\n",
    "        i = 1\n",
    "        curr = self.head\n",
    "        while i < pos:\n",
    "            curr = curr.next\n",
    "            i += 1\n",
    "        return curr\n",
    "\n",
    "    def traverse(self):\n",
    "        curr=self.head\n",
    "        lst=[]\n",
    "        while curr:\n",
    "            lst.append(curr.data)\n",
    "            curr=curr.next\n",
    "        return lst\n",
    "\n",
    "\n",
    "# 이 solution 함수는 그대로 두어야 합니다.\n",
    "def solution(x):\n",
    "    return 0"
   ]
  },
  {
   "cell_type": "markdown",
   "metadata": {},
   "source": [
    "## 8강: 연결 리스트(2)\n",
    "#### 단일 연결리스트의 원소 삽입의 복잡도\n",
    "\n",
    "맨 앞에 삽입하는 경우: O(1)\n",
    "중간에 삽입하는 경우: O(n)\n",
    "맨 끝에 삽입하는 경우: O(1)\n",
    "\n",
    "#### 단일 연결리스트의 원소 삭제의 복잡도\n",
    "\n",
    "맨 앞에 삭제하는 경우: O(1)\n",
    "중간에 삭제하는 경우: O(n)\n",
    "맨 끝에 삭제하는 경우: O(n)\n",
    "\n",
    "- 맨끝에 삽입하는 경우는 tail에 추가하면 되므로 빠르게 처리할 수 있지만, 지금 구현한 단일 연결리스트는 앞에 있는 노드에서 뒤에 있는 노드로만 순회가 가능하기 때문에 tail에서 tail-1에 있는 노드로의 접근이 안된다. 그래서 맨 끝에 삽입하는 경우는 O(1)이지만, 맨 뒤를 삭제하려는 경우는 O(n)으로 맨처음부터 링크를 타고 N-1번째에 있는 노드로 찾아가야한다.\n",
    "\n",
    "8_문제: "
   ]
  },
  {
   "cell_type": "code",
   "execution_count": 2,
   "metadata": {},
   "outputs": [],
   "source": [
    "class Node:\n",
    "\n",
    "    def __init__(self, item):\n",
    "        self.data = item\n",
    "        self.next = None\n",
    "\n",
    "\n",
    "class LinkedList:\n",
    "\n",
    "    def __init__(self):\n",
    "        self.nodeCount = 0\n",
    "        self.head = None\n",
    "        self.tail = None\n",
    "\n",
    "\n",
    "    def getAt(self, pos):\n",
    "        if pos < 1 or pos > self.nodeCount:\n",
    "            return None\n",
    "\n",
    "        i = 1\n",
    "        curr = self.head\n",
    "        while i < pos:\n",
    "            curr = curr.next\n",
    "            i += 1\n",
    "\n",
    "        return curr\n",
    "\n",
    "\n",
    "    def insertAt(self, pos, newNode):\n",
    "        if pos < 1 or pos > self.nodeCount + 1:\n",
    "            return False\n",
    "\n",
    "        if pos == 1:\n",
    "            newNode.next = self.head\n",
    "            self.head = newNode\n",
    "\n",
    "        else:\n",
    "            if pos == self.nodeCount + 1:\n",
    "                prev = self.tail\n",
    "            else:\n",
    "                prev = self.getAt(pos - 1)\n",
    "            newNode.next = prev.next\n",
    "            prev.next = newNode\n",
    "\n",
    "        if pos == self.nodeCount + 1:\n",
    "            self.tail = newNode\n",
    "\n",
    "        self.nodeCount += 1\n",
    "        return True\n",
    "\n",
    "\n",
    "    def popAt(self, pos):\n",
    "        if pos < 1 or pos > self.nodeCount:\n",
    "            raise IndexError\n",
    "            \n",
    "        curr=None\n",
    "        \n",
    "        if pos==1:\n",
    "            curr=self.head\n",
    "            if self.nodeCount==1:\n",
    "                self.head=None\n",
    "                self.tail=None\n",
    "            else:\n",
    "                self.head=curr.next\n",
    "        else:\n",
    "            prev=self.getAt(pos-1)\n",
    "            curr=prev.next\n",
    "            if pos==self.nodeCount:\n",
    "                prev.next=None\n",
    "                self.tail=prev\n",
    "            else:\n",
    "                prev.next=curr.next\n",
    "\n",
    "        self.nodeCount-=1\n",
    "        return curr.data\n",
    "                \n",
    "    \n",
    "                \n",
    "\n",
    "    def traverse(self):\n",
    "        result = []\n",
    "        curr = self.head\n",
    "        while curr is not None:\n",
    "            result.append(curr.data)\n",
    "            curr = curr.next\n",
    "        return result\n",
    "\n",
    "\n",
    "def solution(x):\n",
    "    return 0"
   ]
  },
  {
   "cell_type": "markdown",
   "metadata": {},
   "source": [
    "## 9강: 연결리스트 (3)\n",
    "### 연결리스트가 힘을 발휘할 때...\n",
    "- 순서지어 연결된 데이터들 중에서 자주 데이터를 삽입, 삭제할 경우 연결 리스트가 적당하다.\n",
    "- 삽입과 삭제가 유연하다는 점이 큰 장점\n",
    "\n",
    "단, 마지막 노드에 삭제하기 위해서는 처음부터 순회해야하는 것이 단점이므로 조금 변형하여 새로운 메서드를 만들어보면 insertAfter(prev, newNode), popAfter(prev)를 만들어보자. 두 메서드는 삽입하거나 삭제할 위치의 앞의 노드의 위치(prev)를 입력하면 삭제할 노드의 뒤를 삽입 삭제한다. \n",
    "이를 위해서 맨 앞에 dummy node를 추가한다. 이렇게 리스트의 구조를 변형하면 데이터의 연산(1,길이얻어내기, 2. 리스트 순회, 3. 특정 원소 참조 4,원소삽입, 5. 원소 삭제, 6. 두 리스트 합치기) 역시 바뀌게 된다."
   ]
  },
  {
   "cell_type": "code",
   "execution_count": 11,
   "metadata": {},
   "outputs": [],
   "source": [
    "class Node:\n",
    "\n",
    "    def __init__(self, item):\n",
    "        self.data = item\n",
    "        self.next = None\n",
    "\n",
    "class LinkedList:\n",
    "    def __init__(self):\n",
    "        self.nodeCount=0\n",
    "        self.head=Node(None) #head가 가리키는 dummy 노드를 만들어낸다.\n",
    "        self.tail=None\n",
    "        self.head.next=self.tail\n",
    "    \n",
    "    def __repr__(self):\n",
    "        if self.nodeCount==0:\n",
    "            return 'LinkdedList:empty'\n",
    "        s=''\n",
    "        curr=self.head\n",
    "        while curr.next:\n",
    "            curr=curr.next\n",
    "            s+=repr(curr.data)\n",
    "            if curr.next is not None:\n",
    "                s+='->'\n",
    "        return s\n",
    "    \n",
    "    def getLength(self):\n",
    "        return self.nodeCount\n",
    "    \n",
    "    # 리스트 순회\n",
    "    def traverse(self):\n",
    "        result=[]\n",
    "        curr=self.head\n",
    "        while curr.next:\n",
    "            curr=curr.next \n",
    "            # curr가 head였으니까. head는 dummy변수이니까\n",
    "            # curr=curr.next를 먼저 입력해줌\n",
    "            result.append(curr.data)\n",
    "        return result\n",
    "    \n",
    "    #k번째 원소 얻어내기\n",
    "    def getAt(self, pos):\n",
    "        if pos<0 or pos>self.nodeCount: \n",
    "            # head가 dummy node이고 0번째 노드이므로 0보다 작으면 None\n",
    "            return None\n",
    "        i=0 \n",
    "        curr=self.head\n",
    "        while i<pos:\n",
    "            curr=curr.next\n",
    "            i+=1\n",
    "        return curr\n",
    "    \n",
    "    # 원소의 삽입\n",
    "    def insertAfter(self, prev, newNode):\n",
    "        newNode.next=prev.next   # 새로운 노드의 다음 노드는 prev의 다음 노드로 대입\n",
    "        if prev.next is None:   # prev 다음 노드가 없다면, prev가 tail이라면.\n",
    "            self.tail=newNode   # tail노드가 newNode가 됨.\n",
    "        prev.next=newNode       # prev와 newNode연결\n",
    "        self.nodeCount+=1       # nodeCount에 1을 더하면 끝\n",
    "        return True\n",
    "    \n",
    "    def insertAt(self, pos, newNode):\n",
    "        if pos<1 or pos>self.nodeCount+1:       # pos가 적절한 값인가?\n",
    "            return False                        # 1보다 작거나 전체 노드수+1보다 크면 부적절 한 값이므로 False\n",
    "        if pos!=1 and pos==self.nodeCount+1:    # pos가 1이 아니면서 pos가 nodeCount+1이면, 하나 이상의 연결 리스트 끝에 삽입.\n",
    "            prev=self.tail                      # prev는 tail이다.\n",
    "        else:\n",
    "            prev=self.getAt(pos-1)\n",
    "        return self.insertAfter(prev, newNode)\n",
    "    \n",
    "    def concat(self, L):\n",
    "        self.tail.next=L.head.next\n",
    "        if L.tail:\n",
    "            self.tail=L.tail\n",
    "        self.nodeCount+=L.nodeCount\n",
    "    \n",
    "    def popAfter(self, prev):\n",
    "        if prev.next==None: # prev가 마지막 노드일때\n",
    "            return None     # 삭제할 노드가 없으므로 None\n",
    "        curr=prev.next\n",
    "        if curr.next==None: # 삭제할 노드가 tail이라면?\n",
    "            prev.next=None\n",
    "            self.tail=prev\n",
    "        else:\n",
    "            prev.next=curr.next\n",
    "        self.nodeCount-=1\n",
    "        return curr.data\n",
    "    \n",
    "    def popAt(self, pos):\n",
    "        if pos<1 or pos>self.nodeCount:\n",
    "            return False\n",
    "        if pos!=1 and pos==self.nodeCount+1:\n",
    "            prev=self.tail\n",
    "        else:\n",
    "            prev=self.getAt(pos-1)\n",
    "        return self.popAfter(prev)"
   ]
  },
  {
   "cell_type": "code",
   "execution_count": 29,
   "metadata": {},
   "outputs": [],
   "source": [
    "a=Node(32)\n",
    "b=Node(2)\n",
    "c=Node(6)\n",
    "L=LinkedList()"
   ]
  },
  {
   "cell_type": "code",
   "execution_count": 30,
   "metadata": {},
   "outputs": [
    {
     "data": {
      "text/plain": [
       "True"
      ]
     },
     "execution_count": 30,
     "metadata": {},
     "output_type": "execute_result"
    }
   ],
   "source": [
    "L.insertAt(1,a)\n",
    "L.insertAt(1,b)\n",
    "L.insertAt(1,c)"
   ]
  },
  {
   "cell_type": "code",
   "execution_count": 31,
   "metadata": {},
   "outputs": [
    {
     "data": {
      "text/plain": [
       "True"
      ]
     },
     "execution_count": 31,
     "metadata": {},
     "output_type": "execute_result"
    }
   ],
   "source": [
    "L"
   ]
  },
  {
   "cell_type": "code",
   "execution_count": 32,
   "metadata": {},
   "outputs": [
    {
     "data": {
      "text/plain": [
       "True"
      ]
     },
     "execution_count": 32,
     "metadata": {},
     "output_type": "execute_result"
    }
   ],
   "source": [
    "L.popAt(3)"
   ]
  },
  {
   "cell_type": "code",
   "execution_count": 33,
   "metadata": {},
   "outputs": [
    {
     "data": {
      "text/plain": [
       "6->2->32"
      ]
     },
     "execution_count": 33,
     "metadata": {},
     "output_type": "execute_result"
    }
   ],
   "source": [
    "L"
   ]
  }
 ],
 "metadata": {
  "kernelspec": {
   "display_name": "Python 3",
   "language": "python",
   "name": "python3"
  },
  "language_info": {
   "codemirror_mode": {
    "name": "ipython",
    "version": 3
   },
   "file_extension": ".py",
   "mimetype": "text/x-python",
   "name": "python",
   "nbconvert_exporter": "python",
   "pygments_lexer": "ipython3",
   "version": "3.7.4"
  }
 },
 "nbformat": 4,
 "nbformat_minor": 2
}
